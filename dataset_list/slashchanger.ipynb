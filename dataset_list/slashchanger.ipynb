{
 "cells": [
  {
   "cell_type": "code",
   "execution_count": 2,
   "metadata": {},
   "outputs": [],
   "source": [
    "# -*- coding: utf-8 -*-\n",
    "\"\"\"\n",
    "Created on Wed Oct 28 01:05:24 2020\n",
    "\n",
    "@author: nyamochir\n",
    "this function was somewhat useful when training under the certain limitations\n",
    "related to the systems -- Like linux, or windows --> special distributions.\n",
    "\"\"\"\n",
    "#limit = 0\n",
    "import os\n",
    "name = \"trainlist.txt\"\n",
    "def get_series(name):\n",
    "    new_list = []\n",
    "    with open(name, \"r\") as file:\n",
    "        for row in file.readlines():\n",
    "            row = row.split(\"\\\\\")\n",
    "            new_row = \"\"\n",
    "            try:\n",
    "                new_row = row[0]+\"/\"+row[1]\n",
    "                new_list.append(new_row)\n",
    "            except:\n",
    "                new_list.append(row[0])\n",
    "            #for i in row:\n",
    "\n",
    "            #new_row = \"\"\n",
    "            #for i in row:\n",
    "            #    new_row += i+ \"/\"\n",
    "            #new_row = new_row[:-1]\n",
    "\n",
    "    return new_list\n",
    "new_list = get_series(name)\n",
    "os.remove(name)\n",
    "def get_string(new_list):\n",
    "    current = \"\"\n",
    "    for i in new_list:\n",
    "        current+=i\n",
    "    return current\n",
    "f = open(name, \"a\")\n",
    "f.write(get_string(new_list))\n",
    "f.close()"
   ]
  },
  {
   "cell_type": "code",
   "execution_count": 21,
   "metadata": {},
   "outputs": [],
   "source": []
  },
  {
   "cell_type": "code",
   "execution_count": 19,
   "metadata": {},
   "outputs": [],
   "source": []
  },
  {
   "cell_type": "code",
   "execution_count": 20,
   "metadata": {},
   "outputs": [],
   "source": []
  },
  {
   "cell_type": "code",
   "execution_count": null,
   "metadata": {},
   "outputs": [],
   "source": []
  }
 ],
 "metadata": {
  "kernelspec": {
   "display_name": "Python 3",
   "language": "python",
   "name": "python3"
  },
  "language_info": {
   "codemirror_mode": {
    "name": "ipython",
    "version": 3
   },
   "file_extension": ".py",
   "mimetype": "text/x-python",
   "name": "python",
   "nbconvert_exporter": "python",
   "pygments_lexer": "ipython3",
   "version": "3.8.3"
  }
 },
 "nbformat": 4,
 "nbformat_minor": 4
}
