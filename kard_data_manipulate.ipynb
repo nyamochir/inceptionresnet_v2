{
 "cells": [
  {
   "cell_type": "code",
   "execution_count": null,
   "metadata": {},
   "outputs": [],
   "source": [
    "import numpy as np\n",
    "import tensorflow\n",
    "from data_gen import DataGenerator\n",
    "from model_ML import create_model_pretrain\n",
    "from data_helper import readfile_to_dict\n",
    "\n",
    "from tensorflow.compat.v1.keras.callbacks import Callback\n",
    "from tensorflow.compat.v1.keras.callbacks import ModelCheckpoint\n",
    "\n",
    "###### Parameters setting\n",
    "dim = (224,224) # for MobileNetV2\n",
    "n_sequence = 8 # for LSTM\n",
    "n_channels = 3 # color channel(RGB)\n",
    "n_output = 6 #18 # number of output class\n",
    "batch_size = 2\n",
    "n_mul_train = 1 # To increase sample of train set\n",
    "n_mul_test = 4 # To increase sample of test set\n",
    "path_dataset = 'data/k2k28dtm7tr6-1/'\n",
    "######\n",
    "\n",
    "# Keyword argument\n",
    "params = {'dim': dim,\n",
    "          'batch_size': batch_size, # you can increase for faster training\n",
    "          'n_sequence': n_sequence,\n",
    "          'n_channels': n_channels,\n",
    "          'path_dataset': path_dataset,\n",
    "          'option': 'RGBdiff',\n",
    "          'shuffle': True}\n",
    "\n",
    "# train_txt = \"dataset_list/trainlist.txt\"\n",
    "# test_txt = \"dataset_list/testlist.txt\"\n",
    "train_txt = \"dataset_list/trainlistKARD6.txt\"\n",
    "test_txt = \"dataset_list/testlistKARD6.txt\"\n",
    "\n",
    "# Read file\n",
    "# train_d and test_d is dictionary that contain name of video as key and label as value\n",
    "# For example, {'a01\\a01_s08_e01': 0, 'a01\\a01_s08_e02': 0, .... }\n",
    "# It's used for getting label(Y)\n",
    "train_d = readfile_to_dict(train_txt)\n",
    "test_d = readfile_to_dict(test_txt)\n",
    "\n",
    "# Prepare key, name of video(X)\n",
    "train_keys = list(train_d.keys()) * n_mul_train\n",
    "test_keys = list(test_d.keys()) * n_mul_test\n",
    "\n",
    "# Generators\n",
    "training_generator = DataGenerator(train_keys, train_d, **params, type_gen='train')\n",
    "validation_generator = DataGenerator(test_keys, test_d, **params, type_gen='test')\n",
    "\n",
    "# Design model\n",
    "model = create_model_pretrain(dim, n_sequence, n_channels, n_output)\n",
    "start_epoch = 0\n",
    "\n",
    "# Load weight of unfinish training model(optional)\n",
    "load_model = False\n",
    "if load_model:\n",
    "    weights_path = 'save_weight/weight-300-0.73-0.81.hdf5' # name of model \n",
    "    start_epoch = 300\n",
    "    model.load_weights(weights_path)\n",
    "\n",
    "# Set callback\n",
    "validate_freq = 3\n",
    "filepath = \"save_weight/\"+\"weight-{epoch:02d}-{accuracy:.2f}-{val_accuracy:.2f}.hdf5\"\n",
    "checkpoint = ModelCheckpoint(filepath, monitor='val_accuracy', verbose=1, save_best_only=False, period=validate_freq)\n",
    "callbacks_list = [checkpoint]\n",
    "\n",
    "# # Train model on dataset\n",
    "model.fit_generator(generator=training_generator,\n",
    "                    validation_data=validation_generator,\n",
    "                    epochs=600,\n",
    "                    callbacks=callbacks_list,\n",
    "                    initial_epoch=start_epoch,                 \n",
    "                    validation_freq=validate_freq\n",
    "                    )\n",
    "\n"
   ]
  },
  {
   "cell_type": "code",
   "execution_count": 63,
   "metadata": {},
   "outputs": [
    {
     "name": "stdout",
     "output_type": "stream",
     "text": [
      "Use sometimes --above can be useful --> trying to load the rest of the databses\n"
     ]
    }
   ],
   "source": [
    "\"\"\"\n",
    "import os\n",
    "current = 'a0'\n",
    "index = 1\n",
    "video_file_list = []\n",
    "try:\n",
    "    os.mkdir('data/k28dtm7tr6-1/')\n",
    "except:\n",
    "    pass\n",
    "for i in os.listdir('data/k28dtm7tr6-1/'):\n",
    "    npart = current+str(index)\n",
    "    #try:\n",
    "    #    os.mkdir('data/k28dtm7tr6-1/'+current+str(index))\n",
    "    #except:\n",
    "    #    pass\n",
    "    if \".mp4\" in i:\n",
    "        video_file_list.append(i)\n",
    "        \n",
    "    \n",
    "    \n",
    "    index+=1\n",
    "dirnames = []\n",
    "for video in video_file_list:\n",
    "    if video[:3] not in dirnames:\n",
    "        dirnames.append(video[:3])\n",
    "dirnames\n",
    "import shutil\n",
    "test_directory = 'data/k28dtm7tr6-1/test/'\n",
    "for direc in dirnames:\n",
    "    try:\n",
    "        os.mkdir(test_directory+direc)\n",
    "    except:\n",
    "        pass\n",
    "    for video in video_file_list:\n",
    "        if direc == video[:3]:\n",
    "            shutil.copy('data/k28dtm7tr6-1/'+video, test_directory+direc+\"/\"+video)\n",
    "            \n",
    "    \n",
    "\"\"\"\n",
    "import tarfile\n",
    "import os\n",
    "print(\"Use sometimes --above can be useful --> trying to load the rest of the databses\")"
   ]
  },
  {
   "cell_type": "code",
   "execution_count": 65,
   "metadata": {},
   "outputs": [],
   "source": [
    "os.chdir(\"data/\") # this notebook is related to the data directory since it is only going manipulate the data --> "
   ]
  },
  {
   "cell_type": "code",
   "execution_count": null,
   "metadata": {},
   "outputs": [],
   "source": []
  },
  {
   "cell_type": "code",
   "execution_count": null,
   "metadata": {},
   "outputs": [],
   "source": []
  },
  {
   "cell_type": "code",
   "execution_count": null,
   "metadata": {},
   "outputs": [],
   "source": []
  },
  {
   "cell_type": "code",
   "execution_count": null,
   "metadata": {},
   "outputs": [],
   "source": []
  },
  {
   "cell_type": "code",
   "execution_count": null,
   "metadata": {},
   "outputs": [],
   "source": []
  },
  {
   "cell_type": "code",
   "execution_count": 6,
   "metadata": {},
   "outputs": [],
   "source": []
  },
  {
   "cell_type": "code",
   "execution_count": 5,
   "metadata": {},
   "outputs": [],
   "source": []
  },
  {
   "cell_type": "code",
   "execution_count": 67,
   "metadata": {},
   "outputs": [
    {
     "data": {
      "text/plain": [
       "['KARD_a01_a02.tar',\n",
       " 'KARD_a03_a04.tar',\n",
       " 'KARD_a05_a06.tar',\n",
       " 'KARD_a07_a08.tar',\n",
       " 'KARD_a09_a10.tar',\n",
       " 'KARD_a11_a12.tar',\n",
       " 'KARD_a13_a14.tar',\n",
       " 'KARD_a15_a16.tar',\n",
       " 'KARD_a17_a18.tar']"
      ]
     },
     "execution_count": 67,
     "metadata": {},
     "output_type": "execute_result"
    }
   ],
   "source": [
    "def get_tar_files(names):\n",
    "    tar_files = []\n",
    "    for name in names:\n",
    "        if \".tar\" in name:\n",
    "            tar_files.append(name)\n",
    "    return tar_files\n",
    "names = os.listdir()\n",
    "tar_files = get_tar_files(names)\n",
    "tar_files"
   ]
  },
  {
   "cell_type": "code",
   "execution_count": 38,
   "metadata": {},
   "outputs": [
    {
     "name": "stdout",
     "output_type": "stream",
     "text": [
      "Starting to extract ...\n",
      "Done to extract!\n"
     ]
    }
   ],
   "source": [
    "def extract_tarfiles(tar_files):\n",
    "    print(\"Starting to extract ...\")\n",
    "    for current_tarfile in tar_files:\n",
    "        ctar = tarfile.TarFile(current_tarfile)\n",
    "        ctar.extractall()\n",
    "    print(\"Done to extract!\")\n",
    "    \n",
    "extract_tarfiles(tar_files)"
   ]
  },
  {
   "cell_type": "code",
   "execution_count": 9,
   "metadata": {},
   "outputs": [],
   "source": [
    "# there are several time to wait to extraction completed --> "
   ]
  },
  {
   "cell_type": "code",
   "execution_count": 62,
   "metadata": {},
   "outputs": [
    {
     "data": {
      "text/plain": [
       "['KARD_a01_a02.tar',\n",
       " 'KARD_a03_a04.tar',\n",
       " 'KARD_a05_a06.tar',\n",
       " 'KARD_a07_a08.tar',\n",
       " 'KARD_a09_a10.tar',\n",
       " 'KARD_a11_a12.tar',\n",
       " 'KARD_a13_a14.tar',\n",
       " 'KARD_a15_a16.tar',\n",
       " 'KARD_a17_a18.tar',\n",
       " 'kard_data',\n",
       " 'test',\n",
       " 'training']"
      ]
     },
     "execution_count": 62,
     "metadata": {},
     "output_type": "execute_result"
    }
   ],
   "source": [
    "os.listdir()"
   ]
  },
  {
   "cell_type": "code",
   "execution_count": 22,
   "metadata": {},
   "outputs": [],
   "source": [
    "dirname = tar_files[0]\n",
    "dirname =dirname.split(\".\")[0]"
   ]
  },
  {
   "cell_type": "code",
   "execution_count": 26,
   "metadata": {},
   "outputs": [],
   "source": [
    "\n",
    "#actions = [\"a0\"]"
   ]
  },
  {
   "cell_type": "code",
   "execution_count": 49,
   "metadata": {},
   "outputs": [
    {
     "name": "stdout",
     "output_type": "stream",
     "text": [
      "a01\n",
      "a02\n",
      "a03\n",
      "a04\n",
      "a05\n",
      "a06\n",
      "a07\n",
      "a08\n",
      "a09\n",
      "a10\n",
      "a11\n",
      "a12\n",
      "a13\n",
      "a14\n",
      "a15\n",
      "a16\n",
      "a17\n",
      "a18\n",
      "successfully created!\n"
     ]
    }
   ],
   "source": [
    "def build_classdir():\n",
    "    name_init0 = \"a0\"\n",
    "    name_init1 = \"a\"\n",
    "    classes = []\n",
    "    for i in range(1, 19):\n",
    "        if i  < 10:\n",
    "            print(name_init0+str(i))\n",
    "            classes.append(name_init0+str(i))\n",
    "        else:\n",
    "            print(name_init1+str(i))\n",
    "            classes.append(name_init1+str(i))\n",
    "            \n",
    "    try:\n",
    "        os.mkdir(\"kard_data\")\n",
    "    except:\n",
    "        pass\n",
    "    for current_class in classes:\n",
    "        try:\n",
    "            os.mkdir(\"kard_data/\"+current_class)\n",
    "        except:\n",
    "            pass\n",
    "    print(\"successfully created!\")\n",
    "    return classes\n",
    "classes = build_classdir()"
   ]
  },
  {
   "cell_type": "code",
   "execution_count": 45,
   "metadata": {},
   "outputs": [],
   "source": [
    "import shutil"
   ]
  },
  {
   "cell_type": "code",
   "execution_count": null,
   "metadata": {},
   "outputs": [],
   "source": []
  },
  {
   "cell_type": "code",
   "execution_count": 43,
   "metadata": {},
   "outputs": [],
   "source": [
    "def get_video_files(extension):\n",
    "    mp4_files=  []\n",
    "    for i in os.listdir():\n",
    "        #print(i)\n",
    "\n",
    "        if extension in i:\n",
    "            mp4_files.append(i)\n",
    "    return mp4_files\n",
    "extension = \".mp4\"# this would be different depending on the particular input itis giving it as training or the testing data\n",
    "mp4_files= get_video_files(extension)"
   ]
  },
  {
   "cell_type": "code",
   "execution_count": 48,
   "metadata": {},
   "outputs": [
    {
     "name": "stdout",
     "output_type": "stream",
     "text": [
      "Starting to copy video files ...\n",
      "Done!\n"
     ]
    }
   ],
   "source": [
    "def copy_files(mp4_files):\n",
    "    print(\"Starting to copy video files ...\")\n",
    "    for file in mp4_files:\n",
    "        class_name = file[:3]\n",
    "        shutil.copy(file, \"kard_data/\"+class_name)\n",
    "    print(\"Done!\")\n",
    "copy_files(mp4_files)# "
   ]
  },
  {
   "cell_type": "code",
   "execution_count": 53,
   "metadata": {},
   "outputs": [
    {
     "name": "stdout",
     "output_type": "stream",
     "text": [
      "Starting to clean the file system ...\n",
      "Successful file System cleaning\n"
     ]
    }
   ],
   "source": [
    "def file_system_clean():\n",
    "    print(\"Starting to clean the file system ...\")\n",
    "\n",
    "    for i in os.listdir():\n",
    "\n",
    "        if i in tar_files or i == \"kard_data\":\n",
    "            pass\n",
    "        else:\n",
    "            try:\n",
    "                os.remove(i)\n",
    "            except:\n",
    "                shutil.rmtree(i)\n",
    "    print(\"Successful file System cleaning\")\n",
    "def prepare_train_test():\n",
    "    \n",
    "    shutil.copytree(\"kard_data/\", \"training/\")\n",
    "    shutil.copytree(\"kard_data/\", \"test/\")\n",
    "    #for i in os.listdir(\"kard_data\"):\n",
    "    #    shutil.copytree(\"kard_data/\", \"training/\")\n",
    "    #for i in os.listdir(\"kard_data\"):\n",
    "     #   shutil.copytree(\"kard_data/\"+i, \"test/\")\n",
    "file_system_clean()    \n"
   ]
  },
  {
   "cell_type": "code",
   "execution_count": 61,
   "metadata": {},
   "outputs": [],
   "source": [
    "\n",
    "prepare_train_test()"
   ]
  },
  {
   "cell_type": "code",
   "execution_count": null,
   "metadata": {},
   "outputs": [],
   "source": []
  }
 ],
 "metadata": {
  "kernelspec": {
   "display_name": "Python 3",
   "language": "python",
   "name": "python3"
  },
  "language_info": {
   "codemirror_mode": {
    "name": "ipython",
    "version": 3
   },
   "file_extension": ".py",
   "mimetype": "text/x-python",
   "name": "python",
   "nbconvert_exporter": "python",
   "pygments_lexer": "ipython3",
   "version": "3.8.3"
  }
 },
 "nbformat": 4,
 "nbformat_minor": 4
}
