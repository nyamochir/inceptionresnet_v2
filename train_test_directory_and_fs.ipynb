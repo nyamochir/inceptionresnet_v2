{
 "cells": [
  {
   "cell_type": "code",
   "execution_count": 10,
   "metadata": {},
   "outputs": [],
   "source": [
    "import os\n",
    "path = \"data/interaction_segmented_set/\"\n",
    "import shutil"
   ]
  },
  {
   "cell_type": "code",
   "execution_count": 11,
   "metadata": {},
   "outputs": [
    {
     "data": {
      "text/plain": [
       "['4', '1', '2', '3', '5', '0', 'test', 'train']"
      ]
     },
     "execution_count": 11,
     "metadata": {},
     "output_type": "execute_result"
    }
   ],
   "source": [
    "dir_names = []\n",
    "\n",
    "try:\n",
    "    os.mkdir(path+\"test\")\n",
    "except:\n",
    "    pass\n",
    "for file in os.listdir(path):\n",
    "    cdir =file.split(\".\")[0].split(\"_\")[-1]\n",
    "    cdir = cdir.strip()\n",
    "    if cdir not in dir_names:\n",
    "        dir_names.append(cdir)\n",
    "        if cdir == \"test\" or cdir ==\"train\":\n",
    "            pass\n",
    "        else:\n",
    "            try:\n",
    "                os.mkdir(path+\"test/\"+cdir)\n",
    "            except:\n",
    "                pass\n",
    "for file in os.listdir(path):\n",
    "    cdir =file.split(\".\")[0].split(\"_\")[-1]\n",
    "    cdir = cdir.strip()\n",
    "    \n",
    "    #dir_names.append(cdir)\n",
    "    if cdir == \"test\" or cdir ==\"train\":\n",
    "        pass\n",
    "    else:\n",
    "        try:\n",
    "            shutil.copy(path+file, path+\"test/\"+cdir+\"/\"+file)\n",
    "        except:\n",
    "            pass\n",
    "            \n",
    "dir_names\n",
    "    "
   ]
  },
  {
   "cell_type": "code",
   "execution_count": null,
   "metadata": {},
   "outputs": [],
   "source": []
  }
 ],
 "metadata": {
  "kernelspec": {
   "display_name": "Python 3",
   "language": "python",
   "name": "python3"
  },
  "language_info": {
   "codemirror_mode": {
    "name": "ipython",
    "version": 3
   },
   "file_extension": ".py",
   "mimetype": "text/x-python",
   "name": "python",
   "nbconvert_exporter": "python",
   "pygments_lexer": "ipython3",
   "version": "3.8.3"
  }
 },
 "nbformat": 4,
 "nbformat_minor": 4
}
